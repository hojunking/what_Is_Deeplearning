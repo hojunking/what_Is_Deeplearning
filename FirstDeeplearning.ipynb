{
 "cells": [
  {
   "cell_type": "code",
   "execution_count": 1,
   "id": "9109ad88",
   "metadata": {},
   "outputs": [
    {
     "name": "stdout",
     "output_type": "stream",
     "text": [
      "Hello, Deeplearning!\n"
     ]
    }
   ],
   "source": [
    "print(\"Hello, Deeplearning!\")"
   ]
  },
  {
   "cell_type": "markdown",
   "id": "08efbede",
   "metadata": {},
   "source": [
    "호준이의 딥러닝"
   ]
  },
  {
   "cell_type": "markdown",
   "id": "84395cf5",
   "metadata": {},
   "source": [
    "호준이의 딥러닝"
   ]
  },
  {
   "cell_type": "code",
   "execution_count": 8,
   "id": "03f94899",
   "metadata": {},
   "outputs": [
    {
     "name": "stdout",
     "output_type": "stream",
     "text": [
      "Requirement already satisfied: tensorflow==2.6.1 in c:\\users\\gkwla\\anaconda3\\envs\\deep_learnings\\lib\\site-packages (2.6.1)\n",
      "Requirement already satisfied: tensorboard~=2.6 in c:\\users\\gkwla\\anaconda3\\envs\\deep_learnings\\lib\\site-packages (from tensorflow==2.6.1) (2.8.0)\n",
      "Requirement already satisfied: keras~=2.6 in c:\\users\\gkwla\\anaconda3\\envs\\deep_learnings\\lib\\site-packages (from tensorflow==2.6.1) (2.8.0)\n",
      "Requirement already satisfied: clang~=5.0 in c:\\users\\gkwla\\anaconda3\\envs\\deep_learnings\\lib\\site-packages (from tensorflow==2.6.1) (5.0)\n",
      "Requirement already satisfied: wheel~=0.35 in c:\\users\\gkwla\\anaconda3\\envs\\deep_learnings\\lib\\site-packages (from tensorflow==2.6.1) (0.37.1)\n",
      "Requirement already satisfied: wrapt~=1.12.1 in c:\\users\\gkwla\\anaconda3\\envs\\deep_learnings\\lib\\site-packages (from tensorflow==2.6.1) (1.12.1)\n",
      "Requirement already satisfied: grpcio<2.0,>=1.37.0 in c:\\users\\gkwla\\anaconda3\\envs\\deep_learnings\\lib\\site-packages (from tensorflow==2.6.1) (1.44.0)\n",
      "Requirement already satisfied: astunparse~=1.6.3 in c:\\users\\gkwla\\anaconda3\\envs\\deep_learnings\\lib\\site-packages (from tensorflow==2.6.1) (1.6.3)\n",
      "Requirement already satisfied: gast==0.4.0 in c:\\users\\gkwla\\anaconda3\\envs\\deep_learnings\\lib\\site-packages (from tensorflow==2.6.1) (0.4.0)\n",
      "Requirement already satisfied: flatbuffers~=1.12.0 in c:\\users\\gkwla\\anaconda3\\envs\\deep_learnings\\lib\\site-packages (from tensorflow==2.6.1) (1.12)\n",
      "Requirement already satisfied: six~=1.15.0 in c:\\users\\gkwla\\anaconda3\\envs\\deep_learnings\\lib\\site-packages (from tensorflow==2.6.1) (1.15.0)\n",
      "Requirement already satisfied: opt-einsum~=3.3.0 in c:\\users\\gkwla\\anaconda3\\envs\\deep_learnings\\lib\\site-packages (from tensorflow==2.6.1) (3.3.0)\n",
      "Requirement already satisfied: numpy~=1.19.2 in c:\\users\\gkwla\\anaconda3\\envs\\deep_learnings\\lib\\site-packages (from tensorflow==2.6.1) (1.19.5)\n",
      "Requirement already satisfied: typing-extensions~=3.7.4 in c:\\users\\gkwla\\anaconda3\\envs\\deep_learnings\\lib\\site-packages (from tensorflow==2.6.1) (3.7.4.3)\n",
      "Requirement already satisfied: absl-py~=0.10 in c:\\users\\gkwla\\anaconda3\\envs\\deep_learnings\\lib\\site-packages (from tensorflow==2.6.1) (0.15.0)\n",
      "Requirement already satisfied: h5py~=3.1.0 in c:\\users\\gkwla\\anaconda3\\envs\\deep_learnings\\lib\\site-packages (from tensorflow==2.6.1) (3.1.0)\n",
      "Requirement already satisfied: google-pasta~=0.2 in c:\\users\\gkwla\\anaconda3\\envs\\deep_learnings\\lib\\site-packages (from tensorflow==2.6.1) (0.2.0)\n",
      "Requirement already satisfied: keras-preprocessing~=1.1.2 in c:\\users\\gkwla\\anaconda3\\envs\\deep_learnings\\lib\\site-packages (from tensorflow==2.6.1) (1.1.2)\n",
      "Requirement already satisfied: termcolor~=1.1.0 in c:\\users\\gkwla\\anaconda3\\envs\\deep_learnings\\lib\\site-packages (from tensorflow==2.6.1) (1.1.0)\n",
      "Requirement already satisfied: protobuf>=3.9.2 in c:\\users\\gkwla\\anaconda3\\envs\\deep_learnings\\lib\\site-packages (from tensorflow==2.6.1) (3.20.1)\n",
      "Requirement already satisfied: tensorflow-estimator<2.7 in c:\\users\\gkwla\\anaconda3\\envs\\deep_learnings\\lib\\site-packages (from tensorflow==2.6.1) (2.6.0)\n",
      "Requirement already satisfied: markdown>=2.6.8 in c:\\users\\gkwla\\anaconda3\\envs\\deep_learnings\\lib\\site-packages (from tensorboard~=2.6->tensorflow==2.6.1) (3.3.6)\n",
      "Requirement already satisfied: tensorboard-plugin-wit>=1.6.0 in c:\\users\\gkwla\\anaconda3\\envs\\deep_learnings\\lib\\site-packages (from tensorboard~=2.6->tensorflow==2.6.1) (1.8.1)\n",
      "Requirement already satisfied: google-auth<3,>=1.6.3 in c:\\users\\gkwla\\anaconda3\\envs\\deep_learnings\\lib\\site-packages (from tensorboard~=2.6->tensorflow==2.6.1) (2.6.6)\n",
      "Requirement already satisfied: requests<3,>=2.21.0 in c:\\users\\gkwla\\anaconda3\\envs\\deep_learnings\\lib\\site-packages (from tensorboard~=2.6->tensorflow==2.6.1) (2.27.1)\n",
      "Requirement already satisfied: setuptools>=41.0.0 in c:\\users\\gkwla\\anaconda3\\envs\\deep_learnings\\lib\\site-packages (from tensorboard~=2.6->tensorflow==2.6.1) (61.2.0)\n",
      "Requirement already satisfied: werkzeug>=0.11.15 in c:\\users\\gkwla\\anaconda3\\envs\\deep_learnings\\lib\\site-packages (from tensorboard~=2.6->tensorflow==2.6.1) (2.1.1)\n",
      "Requirement already satisfied: tensorboard-data-server<0.7.0,>=0.6.0 in c:\\users\\gkwla\\anaconda3\\envs\\deep_learnings\\lib\\site-packages (from tensorboard~=2.6->tensorflow==2.6.1) (0.6.1)\n",
      "Requirement already satisfied: google-auth-oauthlib<0.5,>=0.4.1 in c:\\users\\gkwla\\anaconda3\\envs\\deep_learnings\\lib\\site-packages (from tensorboard~=2.6->tensorflow==2.6.1) (0.4.6)\n",
      "Requirement already satisfied: pyasn1-modules>=0.2.1 in c:\\users\\gkwla\\anaconda3\\envs\\deep_learnings\\lib\\site-packages (from google-auth<3,>=1.6.3->tensorboard~=2.6->tensorflow==2.6.1) (0.2.8)\n",
      "Requirement already satisfied: cachetools<6.0,>=2.0.0 in c:\\users\\gkwla\\anaconda3\\envs\\deep_learnings\\lib\\site-packages (from google-auth<3,>=1.6.3->tensorboard~=2.6->tensorflow==2.6.1) (5.0.0)\n",
      "Requirement already satisfied: rsa<5,>=3.1.4 in c:\\users\\gkwla\\anaconda3\\envs\\deep_learnings\\lib\\site-packages (from google-auth<3,>=1.6.3->tensorboard~=2.6->tensorflow==2.6.1) (4.8)\n",
      "Requirement already satisfied: requests-oauthlib>=0.7.0 in c:\\users\\gkwla\\anaconda3\\envs\\deep_learnings\\lib\\site-packages (from google-auth-oauthlib<0.5,>=0.4.1->tensorboard~=2.6->tensorflow==2.6.1) (1.3.1)\n",
      "Requirement already satisfied: importlib-metadata>=4.4 in c:\\users\\gkwla\\anaconda3\\envs\\deep_learnings\\lib\\site-packages (from markdown>=2.6.8->tensorboard~=2.6->tensorflow==2.6.1) (4.11.3)\n",
      "Requirement already satisfied: zipp>=0.5 in c:\\users\\gkwla\\anaconda3\\envs\\deep_learnings\\lib\\site-packages (from importlib-metadata>=4.4->markdown>=2.6.8->tensorboard~=2.6->tensorflow==2.6.1) (3.8.0)\n",
      "Requirement already satisfied: pyasn1<0.5.0,>=0.4.6 in c:\\users\\gkwla\\anaconda3\\envs\\deep_learnings\\lib\\site-packages (from pyasn1-modules>=0.2.1->google-auth<3,>=1.6.3->tensorboard~=2.6->tensorflow==2.6.1) (0.4.8)\n",
      "Requirement already satisfied: urllib3<1.27,>=1.21.1 in c:\\users\\gkwla\\anaconda3\\envs\\deep_learnings\\lib\\site-packages (from requests<3,>=2.21.0->tensorboard~=2.6->tensorflow==2.6.1) (1.26.9)\n",
      "Requirement already satisfied: charset-normalizer~=2.0.0 in c:\\users\\gkwla\\anaconda3\\envs\\deep_learnings\\lib\\site-packages (from requests<3,>=2.21.0->tensorboard~=2.6->tensorflow==2.6.1) (2.0.12)\n",
      "Requirement already satisfied: certifi>=2017.4.17 in c:\\users\\gkwla\\anaconda3\\envs\\deep_learnings\\lib\\site-packages (from requests<3,>=2.21.0->tensorboard~=2.6->tensorflow==2.6.1) (2021.10.8)\n",
      "Requirement already satisfied: idna<4,>=2.5 in c:\\users\\gkwla\\anaconda3\\envs\\deep_learnings\\lib\\site-packages (from requests<3,>=2.21.0->tensorboard~=2.6->tensorflow==2.6.1) (3.3)\n",
      "Requirement already satisfied: oauthlib>=3.0.0 in c:\\users\\gkwla\\anaconda3\\envs\\deep_learnings\\lib\\site-packages (from requests-oauthlib>=0.7.0->google-auth-oauthlib<0.5,>=0.4.1->tensorboard~=2.6->tensorflow==2.6.1) (3.2.0)\n"
     ]
    }
   ],
   "source": [
    "!pip install tensorflow==2.6.1"
   ]
  },
  {
   "cell_type": "code",
   "execution_count": 9,
   "id": "42f538ac",
   "metadata": {},
   "outputs": [],
   "source": [
    "import tensorflow"
   ]
  },
  {
   "cell_type": "code",
   "execution_count": 10,
   "id": "d529204a",
   "metadata": {},
   "outputs": [
    {
     "name": "stdout",
     "output_type": "stream",
     "text": [
      "2.6.1\n"
     ]
    }
   ],
   "source": [
    "print(tensorflow.__version__)"
   ]
  },
  {
   "cell_type": "code",
   "execution_count": 11,
   "id": "fa7d0757",
   "metadata": {},
   "outputs": [
    {
     "name": "stdout",
     "output_type": "stream",
     "text": [
      "Collecting keras==2.6\n",
      "  Downloading keras-2.6.0-py2.py3-none-any.whl (1.3 MB)\n",
      "Installing collected packages: keras\n",
      "  Attempting uninstall: keras\n",
      "    Found existing installation: keras 2.8.0\n",
      "    Uninstalling keras-2.8.0:\n",
      "      Successfully uninstalled keras-2.8.0\n",
      "Successfully installed keras-2.6.0\n"
     ]
    }
   ],
   "source": [
    "!pip install keras==2.6"
   ]
  },
  {
   "cell_type": "code",
   "execution_count": 2,
   "id": "5fb79fea",
   "metadata": {},
   "outputs": [],
   "source": [
    "import sys"
   ]
  },
  {
   "cell_type": "code",
   "execution_count": 4,
   "id": "7a296b15",
   "metadata": {},
   "outputs": [
    {
     "name": "stdout",
     "output_type": "stream",
     "text": [
      "3.9.12 (main, Apr  4 2022, 05:22:27) [MSC v.1916 64 bit (AMD64)]\n"
     ]
    }
   ],
   "source": [
    "print(sys.version)"
   ]
  },
  {
   "cell_type": "code",
   "execution_count": 2,
   "id": "43f879c3",
   "metadata": {},
   "outputs": [
    {
     "name": "stdout",
     "output_type": "stream",
     "text": [
      "Requirement already satisfied: matplotlib in c:\\users\\gkwla\\anaconda3\\envs\\deep_learnings\\lib\\site-packages (3.5.2)\n",
      "Requirement already satisfied: pillow>=6.2.0 in c:\\users\\gkwla\\anaconda3\\envs\\deep_learnings\\lib\\site-packages (from matplotlib) (9.1.1)\n",
      "Requirement already satisfied: fonttools>=4.22.0 in c:\\users\\gkwla\\anaconda3\\envs\\deep_learnings\\lib\\site-packages (from matplotlib) (4.33.3)\n",
      "Requirement already satisfied: cycler>=0.10 in c:\\users\\gkwla\\anaconda3\\envs\\deep_learnings\\lib\\site-packages (from matplotlib) (0.11.0)\n",
      "Requirement already satisfied: kiwisolver>=1.0.1 in c:\\users\\gkwla\\anaconda3\\envs\\deep_learnings\\lib\\site-packages (from matplotlib) (1.4.2)\n",
      "Requirement already satisfied: packaging>=20.0 in c:\\users\\gkwla\\anaconda3\\envs\\deep_learnings\\lib\\site-packages (from matplotlib) (21.3)\n",
      "Requirement already satisfied: python-dateutil>=2.7 in c:\\users\\gkwla\\anaconda3\\envs\\deep_learnings\\lib\\site-packages (from matplotlib) (2.8.2)\n",
      "Requirement already satisfied: pyparsing>=2.2.1 in c:\\users\\gkwla\\anaconda3\\envs\\deep_learnings\\lib\\site-packages (from matplotlib) (3.0.4)\n",
      "Requirement already satisfied: numpy>=1.17 in c:\\users\\gkwla\\anaconda3\\envs\\deep_learnings\\lib\\site-packages (from matplotlib) (1.19.5)\n",
      "Requirement already satisfied: six>=1.5 in c:\\users\\gkwla\\anaconda3\\envs\\deep_learnings\\lib\\site-packages (from python-dateutil>=2.7->matplotlib) (1.15.0)\n"
     ]
    }
   ],
   "source": [
    "!pip install matplotlib"
   ]
  },
  {
   "cell_type": "code",
   "execution_count": null,
   "id": "50108939",
   "metadata": {},
   "outputs": [],
   "source": []
  }
 ],
 "metadata": {
  "jupytext": {
   "formats": "ipynb,py:light"
  },
  "kernelspec": {
   "display_name": "Python 3 (ipykernel)",
   "language": "python",
   "name": "python3"
  },
  "language_info": {
   "codemirror_mode": {
    "name": "ipython",
    "version": 3
   },
   "file_extension": ".py",
   "mimetype": "text/x-python",
   "name": "python",
   "nbconvert_exporter": "python",
   "pygments_lexer": "ipython3",
   "version": "3.9.12"
  }
 },
 "nbformat": 4,
 "nbformat_minor": 5
}
